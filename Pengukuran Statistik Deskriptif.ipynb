{
  "nbformat": 4,
  "nbformat_minor": 0,
  "metadata": {
    "colab": {
      "provenance": [],
      "toc_visible": true,
      "authorship_tag": "ABX9TyPi268zEqW6StvhNqW81MCx",
      "include_colab_link": true
    },
    "kernelspec": {
      "name": "python3",
      "display_name": "Python 3"
    },
    "language_info": {
      "name": "python"
    }
  },
  "cells": [
    {
      "cell_type": "markdown",
      "metadata": {
        "id": "view-in-github",
        "colab_type": "text"
      },
      "source": [
        "<a href=\"https://colab.research.google.com/github/IlhamThrq/AI_TI-1B_2025/blob/main/Pengukuran%20Statistik%20Deskriptif.ipynb\" target=\"_parent\"><img src=\"https://colab.research.google.com/assets/colab-badge.svg\" alt=\"Open In Colab\"/></a>"
      ]
    },
    {
      "cell_type": "markdown",
      "source": [
        "# Jobsheet 3: PENGUKURAN STATISTIK DESKRIPTIF"
      ],
      "metadata": {
        "id": "gBkkr2pBuATS"
      }
    },
    {
      "cell_type": "markdown",
      "source": [
        "## A. LATIHAN"
      ],
      "metadata": {
        "id": "KfUZHuawut2T"
      }
    },
    {
      "cell_type": "markdown",
      "source": [
        "### 1. Central Tendency"
      ],
      "metadata": {
        "id": "tt7pmUzivmXp"
      }
    },
    {
      "cell_type": "markdown",
      "source": [
        "#### a. Mendapatkan Nilai Mean"
      ],
      "metadata": {
        "id": "DKE45YrZwQKK"
      }
    },
    {
      "cell_type": "code",
      "source": [
        "import numpy as np\n",
        "\n",
        "score = [90, 80, 70, 65, 110, 80, 83, 67, 94]\n",
        "\n",
        "x = np.mean(score)\n",
        "print(\"Rata-rata skor:\", x)\n"
      ],
      "metadata": {
        "colab": {
          "base_uri": "https://localhost:8080/"
        },
        "id": "ooCLaOmfZ3cS",
        "outputId": "b65456be-9769-45e3-98db-d8afaa331973"
      },
      "execution_count": 1,
      "outputs": [
        {
          "output_type": "stream",
          "name": "stdout",
          "text": [
            "Rata-rata skor: 82.11111111111111\n"
          ]
        }
      ]
    },
    {
      "cell_type": "markdown",
      "source": [
        "#### b. Mendapatkan Nilai Median"
      ],
      "metadata": {
        "id": "GGUBNmaywjod"
      }
    },
    {
      "cell_type": "code",
      "source": [
        "import numpy as np\n",
        "\n",
        "score = [90, 80, 70, 65, 110, 80, 83, 67, 94]\n",
        "\n",
        "x = np.median(score)\n",
        "print(\"Median skor:\", x)\n"
      ],
      "metadata": {
        "colab": {
          "base_uri": "https://localhost:8080/"
        },
        "id": "3z5gD9nKZ9GK",
        "outputId": "bdb5ef58-d1e6-4203-acd3-a1ed50c4b2f7"
      },
      "execution_count": 2,
      "outputs": [
        {
          "output_type": "stream",
          "name": "stdout",
          "text": [
            "Median skor: 80.0\n"
          ]
        }
      ]
    },
    {
      "cell_type": "markdown",
      "source": [
        "#### c. Mendapatkan Nilai Modus / Mode"
      ],
      "metadata": {
        "id": "UjlCQhDUw1aS"
      }
    },
    {
      "cell_type": "code",
      "source": [
        "from scipy import stats\n",
        "\n",
        "score = [90, 80, 70, 65, 110, 80, 83, 67, 94]\n",
        "\n",
        "x = stats.mode(score, keepdims=True)\n",
        "print(\"Modus skor:\", x)\n"
      ],
      "metadata": {
        "colab": {
          "base_uri": "https://localhost:8080/"
        },
        "id": "88M1b2QAaDf2",
        "outputId": "1f8fd85b-2707-4fd9-b4d9-9a12e0da7f0e"
      },
      "execution_count": 3,
      "outputs": [
        {
          "output_type": "stream",
          "name": "stdout",
          "text": [
            "Modus skor: ModeResult(mode=array([80]), count=array([2]))\n"
          ]
        }
      ]
    },
    {
      "cell_type": "markdown",
      "source": [
        "### 2. Spread"
      ],
      "metadata": {
        "id": "Ydjwbs7-xDwu"
      }
    },
    {
      "cell_type": "markdown",
      "source": [
        "#### a. Mendapatkan Nilai Range"
      ],
      "metadata": {
        "id": "ctUb-H76xLgg"
      }
    },
    {
      "cell_type": "code",
      "source": [
        "import numpy as np\n",
        "\n",
        "data = [2, 3, 7, 8, 9, 12, 15, 20, 50, 42]\n",
        "\n",
        "minimum = np.min(data)\n",
        "maximum = np.max(data)\n",
        "x = maximum - minimum\n",
        "print(\"Range (selisih maksimum dan minimum):\", x)\n"
      ],
      "metadata": {
        "colab": {
          "base_uri": "https://localhost:8080/"
        },
        "id": "Zp4fqNBKaRCl",
        "outputId": "c473ace4-0c38-4bb2-dd08-15b952f60b4d"
      },
      "execution_count": 4,
      "outputs": [
        {
          "output_type": "stream",
          "name": "stdout",
          "text": [
            "Range (selisih maksimum dan minimum): 48\n"
          ]
        }
      ]
    },
    {
      "cell_type": "markdown",
      "source": [
        "#### b. Mendapatkan Nilai Percentile"
      ],
      "metadata": {
        "id": "FbmcvSTNxTjs"
      }
    },
    {
      "cell_type": "code",
      "source": [
        "import numpy as np\n",
        "\n",
        "data = [90, 80, 70, 65, 110, 80, 83, 67, 94]\n",
        "\n",
        "x = np.percentile(data, 90)\n",
        "print(\"Persentil ke-90:\", x)\n"
      ],
      "metadata": {
        "colab": {
          "base_uri": "https://localhost:8080/"
        },
        "id": "HK4na9B-afgf",
        "outputId": "725a1d3c-a68e-439e-b9fe-648ace724bab"
      },
      "execution_count": 5,
      "outputs": [
        {
          "output_type": "stream",
          "name": "stdout",
          "text": [
            "Persentil ke-90: 97.2\n"
          ]
        }
      ]
    },
    {
      "cell_type": "markdown",
      "source": [
        "#### c. Mendapatkan Nilai Quartile dan Interquartile Range"
      ],
      "metadata": {
        "id": "QDGi5dlcxbnL"
      }
    },
    {
      "cell_type": "code",
      "source": [
        "import numpy as np\n",
        "\n",
        "data = [3, 4, 4, 5, 5, 6, 6, 7, 8, 8, 9, 10]\n",
        "\n",
        "Q1 = np.median(data[:int(len(data)/2)])\n",
        "Q3 = np.median(data[int(len(data)/2):])\n",
        "IQR = Q3 - Q1\n",
        "print(\"Q1:\", Q1)\n",
        "print(\"Q3:\", Q3)\n",
        "print(\"IQR:\", IQR)\n"
      ],
      "metadata": {
        "colab": {
          "base_uri": "https://localhost:8080/"
        },
        "id": "1NKI3yv6keYW",
        "outputId": "900494ad-dcd3-4b31-f642-3a76409e6bcd"
      },
      "execution_count": 6,
      "outputs": [
        {
          "output_type": "stream",
          "name": "stdout",
          "text": [
            "Q1: 4.5\n",
            "Q3: 8.0\n",
            "IQR: 3.5\n"
          ]
        }
      ]
    },
    {
      "cell_type": "markdown",
      "source": [
        "#### d. Mendapatkan Nilai Variance dan Standart Deviation"
      ],
      "metadata": {
        "id": "8RB2QdeLxlhN"
      }
    },
    {
      "cell_type": "code",
      "source": [
        "import numpy as np\n",
        "\n",
        "data = [86, 87, 88, 86, 87, 85, 86]\n",
        "\n",
        "mean = np.mean(data)\n",
        "var = np.var(data)\n",
        "std = np.std(data)\n",
        "print(\"Mean:\", mean)\n",
        "print(\"Variance:\", var)\n",
        "print(\"Standard Deviation:\", std)\n"
      ],
      "metadata": {
        "colab": {
          "base_uri": "https://localhost:8080/"
        },
        "id": "KVHx0LoWkt7b",
        "outputId": "6496f632-d19c-40f2-d495-e9e5f1f1c022"
      },
      "execution_count": 7,
      "outputs": [
        {
          "output_type": "stream",
          "name": "stdout",
          "text": [
            "Mean: 86.42857142857143\n",
            "Variance: 0.8163265306122449\n",
            "Standard Deviation: 0.9035079029052513\n"
          ]
        }
      ]
    },
    {
      "cell_type": "markdown",
      "source": [
        "## B. TUGAS PRAKTIKUM"
      ],
      "metadata": {
        "id": "Sg5mOABayNBF"
      }
    },
    {
      "cell_type": "markdown",
      "source": [
        "### 1.\tPelemparan dadu sebanyak 25 kali. Angka yang keluar datanya adalah: 1 2 3 4 5 5 6 2 3 4 5 6 6 4 3 2 1 4 3 5 6 6 5 4 5 Modus dari data diatas adalah …\n"
      ],
      "metadata": {
        "id": "lygunfTfyTgE"
      }
    },
    {
      "cell_type": "code",
      "source": [
        "from scipy import stats\n",
        "\n",
        "data = [1, 2, 3, 4, 5, 5, 6, 2, 3, 4, 5, 6, 6, 4, 3, 2, 1, 4, 3, 5, 6, 6, 5, 4, 5]\n",
        "\n",
        "x = stats.mode(data, keepdims=True)\n",
        "print(\"Modus:\", x.mode[0])\n",
        "print(\"Jumlah kemunculan:\", x.count[0])\n"
      ],
      "metadata": {
        "colab": {
          "base_uri": "https://localhost:8080/"
        },
        "id": "4NILVWiXlA-k",
        "outputId": "822655b8-c4d1-464f-dc18-17f9ddbe12a0"
      },
      "execution_count": 10,
      "outputs": [
        {
          "output_type": "stream",
          "name": "stdout",
          "text": [
            "Modus: 5\n",
            "Jumlah kemunculan: 6\n"
          ]
        }
      ]
    },
    {
      "cell_type": "markdown",
      "source": [
        "### 2. Diketahui sebuah deret data 9, 10, 11, 6, 8, 7, 7, 5, 4, 5. Tentukan persentil ke-25 dan persentil ke-75 !"
      ],
      "metadata": {
        "id": "TLj1QbbFyxrX"
      }
    },
    {
      "cell_type": "code",
      "source": [
        "import numpy as np\n",
        "\n",
        "data = [9, 10, 11, 6, 8, 7, 7, 5, 4, 5]\n",
        "\n",
        "p25 = np.percentile(data, 25)\n",
        "p75 = np.percentile(data, 75)\n",
        "print(\"Persentil ke-25:\", p25)\n",
        "print(\"Persentil ke-75:\", p75)\n"
      ],
      "metadata": {
        "colab": {
          "base_uri": "https://localhost:8080/"
        },
        "id": "T8O-WX3wlT5Q",
        "outputId": "c54897dd-fbb3-4d88-c792-9bf8791787e6"
      },
      "execution_count": 11,
      "outputs": [
        {
          "output_type": "stream",
          "name": "stdout",
          "text": [
            "Persentil ke-25: 5.25\n",
            "Persentil ke-75: 8.75\n"
          ]
        }
      ]
    },
    {
      "cell_type": "markdown",
      "source": [
        "### 3.\tPada sebuah kelas memiliki nilai hasil ujian yaitu 50, 54, 62, 50, 52, 59, 61, 63, 65, 10, 53, 63, 65, 50, 59, 62, 50, 51, 57, 60, 63, 65, 65, 53, 99. Beradasarkan data hasil ujian tersebut, tentukan :"
      ],
      "metadata": {
        "id": "tePyruqUzX6g"
      }
    },
    {
      "cell_type": "code",
      "source": [
        "import numpy as np\n",
        "\n",
        "# data sebuah kelas yang mendapatkan nilai hasil ujian\n",
        "data = [50, 54, 62, 50, 52, 59, 61, 63, 65, 10, 53, 63, 65, 50, 59, 62, 50, 51, 57, 60, 63, 65, 65, 53, 99]\n",
        "\n",
        "# a. urutkan data dari yang terkecil sampai data yang terbesar\n",
        "data_sorted = sorted(data)\n",
        "print(\"a. Data Terurut:\")\n",
        "print(data_sorted)\n",
        "\n",
        "# b. Menghitung Q1, Q3, dan IQR\n",
        "q1 = np.percentile(data_sorted, 25)\n",
        "q3 = np.percentile(data_sorted, 75)\n",
        "iqr = q3 - q1\n",
        "\n",
        "print(\"\\nb. Q1:\", q1)\n",
        "print(\"   Q3:\", q3)\n",
        "print(\"   IQR:\", iqr)\n",
        "\n",
        "# c. Tentunkan nilai lower bound dan upper bound\n",
        "lower_bound = q1 - 1.5 * iqr\n",
        "upper_bound = q3 + 1.5 * iqr\n",
        "\n",
        "print(\"\\nc. Lower Bound:\", lower_bound)\n",
        "print(\"   Upper Bound:\", upper_bound)\n",
        "\n",
        "# d. Tentukan nilai ujian yang menjadi outlier berdasarkan data hasil ujian\n",
        "outliers = [x for x in data_sorted if x < lower_bound or x > upper_bound]\n",
        "print(\"\\nd. Outlier:\")\n",
        "print(outliers)\n"
      ],
      "metadata": {
        "id": "nFDHOYZIlU6r",
        "colab": {
          "base_uri": "https://localhost:8080/"
        },
        "outputId": "0e2b7b41-99ce-45e4-bf9a-56b6ccb1c81e"
      },
      "execution_count": 12,
      "outputs": [
        {
          "output_type": "stream",
          "name": "stdout",
          "text": [
            "a. Data Terurut:\n",
            "[10, 50, 50, 50, 50, 51, 52, 53, 53, 54, 57, 59, 59, 60, 61, 62, 62, 63, 63, 63, 65, 65, 65, 65, 99]\n",
            "\n",
            "b. Q1: 52.0\n",
            "   Q3: 63.0\n",
            "   IQR: 11.0\n",
            "\n",
            "c. Lower Bound: 35.5\n",
            "   Upper Bound: 79.5\n",
            "\n",
            "d. Outlier:\n",
            "[10, 99]\n"
          ]
        }
      ]
    },
    {
      "cell_type": "markdown",
      "source": [
        "### 4.\tDiketahui data berat bada mahasiswa informatika polines kelas IK-2E adalah sebagai berikut."
      ],
      "metadata": {
        "id": "-5dc1KlF0UZh"
      }
    },
    {
      "cell_type": "code",
      "source": [
        "import numpy as np\n",
        "\n",
        "# Data Berat badan dan frekuensinya\n",
        "kelas = [(41, 45), (46, 50), (50, 55), (56, 60), (61, 65), (66, 70)]\n",
        "frekuensi = [2, 3, 6, 4, 5, 2]\n",
        "\n",
        "# Menghitung titik tengah\n",
        "titik_tengah = [ (bawah + atas) / 2 for bawah, atas in kelas ]\n",
        "\n",
        "# hitung f * xi dan f * xi^2\n",
        "fx = [f * x for f, x in zip(frekuensi, titik_tengah)]\n",
        "fx2 = [f * x**2 for f, x in zip(frekuensi, titik_tengah)]\n",
        "\n",
        "# jumlah frekuensi\n",
        "total_f = sum(frekuensi)\n",
        "\n",
        "# rumus standar deviasi\n",
        "rata_rata_kuadrat = sum(fx2) / total_f\n",
        "kuadrat_rata_rata = (sum(fx) / total_f) ** 2\n",
        "std_dev = np.sqrt(rata_rata_kuadrat - kuadrat_rata_rata)\n",
        "\n",
        "print(\"Standar Deviasi Berat Badan:\", round(std_dev, 2))\n"
      ],
      "metadata": {
        "colab": {
          "base_uri": "https://localhost:8080/"
        },
        "id": "4jQWAzcDhatU",
        "outputId": "d918743f-5e3e-4e35-d1fe-c75a30724d33"
      },
      "execution_count": 13,
      "outputs": [
        {
          "output_type": "stream",
          "name": "stdout",
          "text": [
            "Standar Deviasi Berat Badan: 7.24\n"
          ]
        }
      ]
    }
  ]
}