{
  "nbformat": 4,
  "nbformat_minor": 0,
  "metadata": {
    "colab": {
      "provenance": [],
      "authorship_tag": "ABX9TyOUILMmYUpwpoguKpxIK3BP",
      "include_colab_link": true
    },
    "kernelspec": {
      "name": "python3",
      "display_name": "Python 3"
    },
    "language_info": {
      "name": "python"
    }
  },
  "cells": [
    {
      "cell_type": "markdown",
      "metadata": {
        "id": "view-in-github",
        "colab_type": "text"
      },
      "source": [
        "<a href=\"https://colab.research.google.com/github/IlhamThrq/AI_TI-1B_2025/blob/main/SVM%20DAN%20NA%C3%8FVE%20BAYES.ipynb\" target=\"_parent\"><img src=\"https://colab.research.google.com/assets/colab-badge.svg\" alt=\"Open In Colab\"/></a>"
      ]
    },
    {
      "cell_type": "markdown",
      "source": [
        "# JOBSHEET 9: SVM DAN NAÏVE BAYES"
      ],
      "metadata": {
        "id": "VBG-jYnIR_RX"
      }
    },
    {
      "cell_type": "markdown",
      "source": [
        "## A. LATIHAN"
      ],
      "metadata": {
        "id": "yi6aypD5SN6H"
      }
    },
    {
      "cell_type": "markdown",
      "source": [
        "### 1. Percobaan 1"
      ],
      "metadata": {
        "id": "STGPJHX-TShq"
      }
    },
    {
      "cell_type": "markdown",
      "source": [
        "### 2. Percobaan 2"
      ],
      "metadata": {
        "id": "amGqVZ0ETVra"
      }
    },
    {
      "cell_type": "markdown",
      "source": [
        "### 3. Percobaan 3"
      ],
      "metadata": {
        "id": "Nd-nStsSTXyN"
      }
    },
    {
      "cell_type": "markdown",
      "source": [
        "## B. TUGAS PRAKTIKUM\n"
      ],
      "metadata": {
        "id": "xaPCfNzoSRaD"
      }
    },
    {
      "cell_type": "markdown",
      "source": [
        "### 1. Pada praktikum percobaan 1 dan percobaan 2 yaitu implementasi algoritma SVM dan SVR anda telah mendapatkan nilai akurasi dari model. Carilah parameter pada algoritma SVM dan SVR sampai anda mendapatkan nilai akurasi terbaik dari kedua algoritma tersebut.\n",
        "    Nb : Anda bisa menggunakan teknik Grid Search\n"
      ],
      "metadata": {
        "id": "OoBUAH4kSzE0"
      }
    },
    {
      "cell_type": "code",
      "source": [
        "# Kode"
      ],
      "metadata": {
        "id": "ToTs6HhiS5bK"
      },
      "execution_count": 1,
      "outputs": []
    },
    {
      "cell_type": "markdown",
      "source": [
        "### 2.\tPada praktikum percobaan 3 yaitu implementasi algoritma Naïve Bayes anda telah mendapatkan nilai akurasi yang cukup tinggi, namun hasil akurasi tersebut masih dapat ditinggkatkan menggunakan hyperparameter tunning. Carilah parameter pada algoritma Naïve Bayes sampai anda mendapatkan nilai akurasi yang lebih tinggi daripada nilai akurasi pada percobaan."
      ],
      "metadata": {
        "id": "5EVBZ_CGTHf-"
      }
    },
    {
      "cell_type": "code",
      "source": [
        "# Kode"
      ],
      "metadata": {
        "id": "GFavCKb_TMx-"
      },
      "execution_count": null,
      "outputs": []
    }
  ]
}