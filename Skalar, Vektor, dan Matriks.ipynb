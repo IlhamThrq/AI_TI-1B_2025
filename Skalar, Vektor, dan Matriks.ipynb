{
  "nbformat": 4,
  "nbformat_minor": 0,
  "metadata": {
    "colab": {
      "provenance": [],
      "toc_visible": true,
      "authorship_tag": "ABX9TyO30unMbgmHGCmtX+o3OgMj",
      "include_colab_link": true
    },
    "kernelspec": {
      "name": "python3",
      "display_name": "Python 3"
    },
    "language_info": {
      "name": "python"
    }
  },
  "cells": [
    {
      "cell_type": "markdown",
      "metadata": {
        "id": "view-in-github",
        "colab_type": "text"
      },
      "source": [
        "<a href=\"https://colab.research.google.com/github/IlhamThrq/AI_TI-1B_2025/blob/main/Skalar%2C%20Vektor%2C%20dan%20Matriks.ipynb\" target=\"_parent\"><img src=\"https://colab.research.google.com/assets/colab-badge.svg\" alt=\"Open In Colab\"/></a>"
      ]
    },
    {
      "cell_type": "markdown",
      "source": [
        "# Jobsheet 2 : OPERASI MATEMATIKA, VEKTOR, MATRIKS DAN TIPE DATA\n"
      ],
      "metadata": {
        "id": "8C_HgtTcJXQA"
      }
    },
    {
      "cell_type": "markdown",
      "source": [
        "## Operasi Matematika Menggunakan Python"
      ],
      "metadata": {
        "id": "9U6DA0s_JmuY"
      }
    },
    {
      "cell_type": "markdown",
      "source": [
        "### a. Mendapatkan Nilai Minimum dan Maksimum"
      ],
      "metadata": {
        "id": "DPdxKKCzJzHm"
      }
    },
    {
      "cell_type": "code",
      "source": [
        "x = min(5, 10, 25)\n",
        "y = max(6, 12, 18)\n",
        "\n",
        "print(\"Nilai minimum:\", x)\n",
        "print(\"Nilai maksimum:\", y)"
      ],
      "metadata": {
        "colab": {
          "base_uri": "https://localhost:8080/"
        },
        "id": "hAEEYGdHKSGC",
        "outputId": "b86b4f63-2eaa-4f2a-d37e-1a8303e19dd4"
      },
      "execution_count": 2,
      "outputs": [
        {
          "output_type": "stream",
          "name": "stdout",
          "text": [
            "Nilai minimum: 5\n",
            "Nilai maksimum: 18\n"
          ]
        }
      ]
    },
    {
      "cell_type": "markdown",
      "source": [
        "### b. Mendapatkan Nilai Absolut"
      ],
      "metadata": {
        "id": "ls02dr6bKc-f"
      }
    },
    {
      "cell_type": "code",
      "source": [
        "x = abs(-7.25)\n",
        "print(\"Nilai absolut:\", x)"
      ],
      "metadata": {
        "colab": {
          "base_uri": "https://localhost:8080/"
        },
        "id": "blZquJwRKkGf",
        "outputId": "2b18fcd4-c161-4927-f319-80c125639a9d"
      },
      "execution_count": 4,
      "outputs": [
        {
          "output_type": "stream",
          "name": "stdout",
          "text": [
            "Nilai absolut: 7.25\n"
          ]
        }
      ]
    },
    {
      "cell_type": "markdown",
      "source": [
        "### C. Mendapatkan Nilai Pangkat"
      ],
      "metadata": {
        "id": "pypq5wbxKp1l"
      }
    },
    {
      "cell_type": "code",
      "source": [
        "import math\n",
        "x = math.pow(4, 3)\n",
        "\n",
        "print(\"Hasil 4 pangkat 3:\", x)"
      ],
      "metadata": {
        "colab": {
          "base_uri": "https://localhost:8080/"
        },
        "id": "Jq-GfxPFKuG3",
        "outputId": "3f67b4ea-f992-4b41-adae-a9166bcb5072"
      },
      "execution_count": 5,
      "outputs": [
        {
          "output_type": "stream",
          "name": "stdout",
          "text": [
            "Hasil 4 pangkat 3: 64.0\n"
          ]
        }
      ]
    },
    {
      "cell_type": "markdown",
      "source": [
        "### d. Mendapatkan Nilai Akar"
      ],
      "metadata": {
        "id": "imrJiqnAKyYx"
      }
    },
    {
      "cell_type": "code",
      "source": [
        "import math\n",
        "x = math.sqrt(64)\n",
        "\n",
        "print(\"Akar kuadrat dari 64:\", x)"
      ],
      "metadata": {
        "colab": {
          "base_uri": "https://localhost:8080/"
        },
        "id": "w_Ly03XvK3Sj",
        "outputId": "0f15a8a7-3b17-4007-e026-a6608dfe8cac"
      },
      "execution_count": 7,
      "outputs": [
        {
          "output_type": "stream",
          "name": "stdout",
          "text": [
            "Akar kuadrat dari 64: 8.0\n"
          ]
        }
      ]
    },
    {
      "cell_type": "markdown",
      "source": [
        "### e. Mendapatkan Nilai Pembulatan"
      ],
      "metadata": {
        "id": "TbfzZ9p-K_sA"
      }
    },
    {
      "cell_type": "code",
      "source": [
        "import math\n",
        "x = math.ceil(1.4)\n",
        "y = math.floor(1.4)\n",
        "\n",
        "print(\"Pembulatan ke atas (ceil):\", x)\n",
        "print(\"Pembulatan ke bawah (floor):\", y)"
      ],
      "metadata": {
        "colab": {
          "base_uri": "https://localhost:8080/"
        },
        "id": "MRLobO4PLDoK",
        "outputId": "5d025174-0b57-459a-bc33-e0e8b81e543a"
      },
      "execution_count": 8,
      "outputs": [
        {
          "output_type": "stream",
          "name": "stdout",
          "text": [
            "Pembulatan ke atas (ceil): 2\n",
            "Pembulatan ke bawah (floor): 1\n"
          ]
        }
      ]
    },
    {
      "cell_type": "markdown",
      "source": [
        "### f. Mendapatkan Nilai Konstansta (PI)"
      ],
      "metadata": {
        "id": "BdTAB-tpLIrB"
      }
    },
    {
      "cell_type": "code",
      "source": [
        "import math\n",
        "x = math.pi\n",
        "\n",
        "print(\"Nilai π (pi):\", x)"
      ],
      "metadata": {
        "colab": {
          "base_uri": "https://localhost:8080/"
        },
        "id": "SMlfSifKLOTv",
        "outputId": "b0b56b53-e4b0-41db-c73f-39d14515e828"
      },
      "execution_count": 9,
      "outputs": [
        {
          "output_type": "stream",
          "name": "stdout",
          "text": [
            "Nilai π (pi): 3.141592653589793\n"
          ]
        }
      ]
    },
    {
      "cell_type": "markdown",
      "source": [
        "## Menggunakan Fungsi MATH"
      ],
      "metadata": {
        "id": "OlMrnUbWLsEv"
      }
    },
    {
      "cell_type": "code",
      "source": [
        "# Beberapa fungsi MATH yang tersedia dan dapat di panggil adalah sebagai berikut:\n",
        "\n",
        "import math  # Mengimpor modul math\n",
        "\n",
        "# Menggunakan berbagai fungsi dari math\n",
        "angka = 125\n",
        "\n",
        "print(\"Nilai sinus dari 125 derajat =\", math.sin(math.radians(angka)))\n",
        "print(\"Nilai cosinus dari 125 derajat =\", math.cos(math.radians(angka)))\n",
        "print(\"Nilai tangen dari 125 derajat =\", math.tan(math.radians(angka)))\n",
        "\n",
        "print(\"Logaritma natural dari 10 =\", math.log(10))\n",
        "print(\"Logaritma basis 10 dari 1000 =\", math.log10(1000))\n",
        "\n",
        "print(\"π/4 radian dalam derajat =\", math.degrees(math.pi / 4))\n",
        "\n",
        "# Menghitung jarak antara dua titik (3,4) dan (0,0)\n",
        "p1 = (3, 4)\n",
        "p2 = (0, 0)\n",
        "print(\"Jarak Euclidean antara (3,4 dan (0,0) =\", math.dist(p1, p2))\n",
        "\n",
        "# Faktorial dari 10\n",
        "print(\"Faktorial dari 10 =\", math.factorial(10))\n",
        "\n",
        "# Sisa pembagian dari 25 dibagi 7\n",
        "print(\"Sisa pembagian 25 ÷ 7 =\", math.fmod(25, 7))\n",
        "\n",
        "# Mengecek apakah angka NaN (Not a Number)\n",
        "nan_val = float('nan')\n",
        "print(\"Apakah NaN?\", math.isnan(nan_val))\n",
        "\n",
        "# Menghitung nilai fungsi gamma dari 6\n",
        "k = math.gamma(6)\n",
        "print(\"Nilai fungsi gamma dari 6 =\", k)\n",
        "\n",
        "# Permutasi dari 5 elemen yang diambil 2\n",
        "print(\"Permutasi 5P2 =\", math.perm(5, 2))"
      ],
      "metadata": {
        "colab": {
          "base_uri": "https://localhost:8080/"
        },
        "id": "VwzKzXvEy2sq",
        "outputId": "57478b47-e94e-4415-99af-f111b7fd2727"
      },
      "execution_count": 17,
      "outputs": [
        {
          "output_type": "stream",
          "name": "stdout",
          "text": [
            "Nilai sinus dari 125 derajat = 0.8191520442889917\n",
            "Nilai cosinus dari 125 derajat = -0.5735764363510462\n",
            "Nilai tangen dari 125 derajat = -1.4281480067421142\n",
            "Logaritma natural dari 10 = 2.302585092994046\n",
            "Logaritma basis 10 dari 1000 = 3.0\n",
            "π/4 radian dalam derajat = 45.0\n",
            "Jarak Euclidean antara (3,4 dan (0,0) = 5.0\n",
            "Faktorial dari 10 = 3628800\n",
            "Sisa pembagian 25 ÷ 7 = 4.0\n",
            "Apakah NaN? True\n",
            "Nilai fungsi gamma dari 6 = 120.0\n",
            "Permutasi 5P2 = 20\n"
          ]
        }
      ]
    },
    {
      "cell_type": "markdown",
      "source": [
        "## Operasi Matriks dan Vektor Dengan Python"
      ],
      "metadata": {
        "id": "JFXaBTKVfc0p"
      }
    },
    {
      "cell_type": "markdown",
      "source": [
        "### a. Membuat Matriks di Python"
      ],
      "metadata": {
        "id": "dXqEOTv8fvFX"
      }
    },
    {
      "cell_type": "code",
      "source": [
        "import numpy as np\n",
        "\n",
        "A = np.array([[80, 30, 25],\n",
        "              [50, 20, 10]])\n",
        "\n",
        "B = np.array([[30, 60, 15],\n",
        "              [10, 30, 30]])\n",
        "\n",
        "hasil = A + B\n",
        "\n",
        "print(\"Matriks A:\\n\", A)\n",
        "print(\"Matriks B:\\n\", B)\n",
        "print(\"Hasil penjumlahan A + B:\\n\", hasil)"
      ],
      "metadata": {
        "colab": {
          "base_uri": "https://localhost:8080/"
        },
        "id": "RQ7Hwp7Mf6V3",
        "outputId": "edfb77f6-0ad6-4c9b-c1e5-0852433877b9"
      },
      "execution_count": 18,
      "outputs": [
        {
          "output_type": "stream",
          "name": "stdout",
          "text": [
            "Matriks A:\n",
            " [[80 30 25]\n",
            " [50 20 10]]\n",
            "Matriks B:\n",
            " [[30 60 15]\n",
            " [10 30 30]]\n",
            "Hasil penjumlahan A + B:\n",
            " [[110  90  40]\n",
            " [ 60  50  40]]\n"
          ]
        }
      ]
    },
    {
      "cell_type": "markdown",
      "source": [
        "### b. Melakukan Operasi Dot Product"
      ],
      "metadata": {
        "id": "jkXLzg1Wf-lu"
      }
    },
    {
      "cell_type": "code",
      "source": [
        "import numpy as np\n",
        "\n",
        "A = np.array([10, 20, 15])\n",
        "B = np.array([16, 67, 35])\n",
        "\n",
        "hasil = np.dot(A, B)\n",
        "\n",
        "print(\"Vektor A:\", A)\n",
        "print(\"Vektor B:\", B)\n",
        "print(\"Hasil dot product A . B:\", hasil)"
      ],
      "metadata": {
        "colab": {
          "base_uri": "https://localhost:8080/"
        },
        "id": "jk6aUjlIgEAB",
        "outputId": "ca345c47-496f-4289-953f-8b7dae45f976"
      },
      "execution_count": 19,
      "outputs": [
        {
          "output_type": "stream",
          "name": "stdout",
          "text": [
            "Vektor A: [10 20 15]\n",
            "Vektor B: [16 67 35]\n",
            "Hasil dot product A . B: 2025\n"
          ]
        }
      ]
    },
    {
      "cell_type": "markdown",
      "source": [
        "### c. Melakukan Operasi Cross Product"
      ],
      "metadata": {
        "id": "_3_WXI2ngLnb"
      }
    },
    {
      "cell_type": "code",
      "source": [
        "import numpy as np\n",
        "\n",
        "A = np.array([10, 20, 15])\n",
        "B = np.array([16, 67, 35])\n",
        "\n",
        "hasil = np.cross(A, B)\n",
        "\n",
        "print(\"Vektor A:\", A)\n",
        "print(\"Vektor B:\", B)\n",
        "print(\"Hasil cross product A × B:\", hasil)"
      ],
      "metadata": {
        "colab": {
          "base_uri": "https://localhost:8080/"
        },
        "id": "dWd7N7UvgR0j",
        "outputId": "b645bc1c-8f38-47b9-a534-8b041cfba34b"
      },
      "execution_count": 20,
      "outputs": [
        {
          "output_type": "stream",
          "name": "stdout",
          "text": [
            "Vektor A: [10 20 15]\n",
            "Vektor B: [16 67 35]\n",
            "Hasil cross product A × B: [-305 -110  350]\n"
          ]
        }
      ]
    },
    {
      "cell_type": "markdown",
      "source": [
        "## Tugas Praktikum"
      ],
      "metadata": {
        "id": "bH6lAb9JhTGx"
      }
    },
    {
      "cell_type": "markdown",
      "source": [
        "### 1. Tentukan Hasil Perkalian Berikut menggunakan kode python :"
      ],
      "metadata": {
        "id": "eEoQNU-0jNaS"
      }
    },
    {
      "cell_type": "code",
      "source": [
        "import numpy as np\n",
        "\n",
        "A = np.array([[3, 1], [2, 0]])\n",
        "B = np.array([[2, 1], [1, -1]])\n",
        "C = np.array([[-1, 1, 2], [2, 0, -1]])\n",
        "\n",
        "hasil_AxB = np.dot(A, B)\n",
        "hasil_BxC = np.dot(B, C)\n",
        "\n",
        "print(\"Jawaban No. 1\")\n",
        "print(\"a. A x B =\\n\", hasil_AxB)\n",
        "print(\"b. B x C =\\n\",hasil_BxC)\n",
        "print()"
      ],
      "metadata": {
        "colab": {
          "base_uri": "https://localhost:8080/"
        },
        "id": "-kysr097jdrI",
        "outputId": "61213a2e-b94f-4d65-b361-cd4e7503bfa4"
      },
      "execution_count": 25,
      "outputs": [
        {
          "output_type": "stream",
          "name": "stdout",
          "text": [
            "Jawaban No. 1\n",
            "a. A x B =\n",
            " [[7 2]\n",
            " [4 2]]\n",
            "b. B x C =\n",
            " [[ 0  2  3]\n",
            " [-3  1  3]]\n",
            "\n"
          ]
        }
      ]
    },
    {
      "cell_type": "markdown",
      "source": [
        "### 2. Hitunglah nilai dari soal faktorial berikut"
      ],
      "metadata": {
        "id": "aJVS0thvldTK"
      }
    },
    {
      "cell_type": "code",
      "source": [
        "import math\n",
        "\n",
        "# Menghitung faktorial\n",
        "faktorial_6 = math.factorial(6)\n",
        "faktorial_8 = math.factorial(8)\n",
        "faktorial_5 = math.factorial(5)\n",
        "\n",
        "# Operasi pembagian\n",
        "pembagian_faktorial = faktorial_8 / faktorial_5\n",
        "\n",
        "# Menampilkan hasil masing-masing jawaban\n",
        "print(\"Jawaban No. 2\")\n",
        "print(\"a. 6! =\", faktorial_6)\n",
        "print(\"b. 8! / 5! =\", pembagian_faktorial)\n"
      ],
      "metadata": {
        "colab": {
          "base_uri": "https://localhost:8080/"
        },
        "id": "XuiLe7TRmaXs",
        "outputId": "2c0b9c63-2470-4283-b758-df1f8be0be71"
      },
      "execution_count": 28,
      "outputs": [
        {
          "output_type": "stream",
          "name": "stdout",
          "text": [
            "Jawaban No. 2\n",
            "a. 6! = 720\n",
            "b. 8! / 5! = 336.0\n"
          ]
        }
      ]
    },
    {
      "cell_type": "markdown",
      "source": [
        "### 3. Dua Buah Vektor A dan B merupakan vektor 3D pada koordinat kartesian. Jika Vektor A = 5i + 3j + 7k dan Vektor B = 12i – 3j + k. Maka tentukan panjang masing-masing Vektor, hasil perkalian titik A.B, dan AxB."
      ],
      "metadata": {
        "id": "fYe0DVlaniEL"
      }
    },
    {
      "cell_type": "code",
      "source": [
        "import numpy as np\n",
        "\n",
        "# Mendefinisikan vektor A dan B\n",
        "A = np.array([5, 3, 7])\n",
        "B = np.array([12, -3, 1])\n",
        "\n",
        "# Menghitung panjang masing-masing vektor (norma)\n",
        "panjang_A = np.linalg.norm(A)\n",
        "panjang_B = np.linalg.norm(B)\n",
        "# Menghitung hasil perkalian titik (dot product)\n",
        "dot_product = np.dot(A, B)\n",
        "\n",
        "# Menghitung hasil perkalian silang (cross product)\n",
        "cross_product = np.cross(A, B)\n",
        "\n",
        "# Menampilkan hasil\n",
        "print(\"Panjang vektor A:\", panjang_A)\n",
        "print(\"Panjang vektor B:\", panjang_B)\n",
        "print(\"Hasil perkalian titik (A . B):\", dot_product)\n",
        "print(\"Hasil perkalian silang (A x B):\", cross_product)"
      ],
      "metadata": {
        "colab": {
          "base_uri": "https://localhost:8080/"
        },
        "id": "MQKZ3YiJnr8f",
        "outputId": "bf40ac05-9e65-4371-a071-e6e00c5c82d4"
      },
      "execution_count": 29,
      "outputs": [
        {
          "output_type": "stream",
          "name": "stdout",
          "text": [
            "Panjang vektor A: 9.1104335791443\n",
            "Panjang vektor B: 12.409673645990857\n",
            "Hasil perkalian titik (A . B): 58\n",
            "Hasil perkalian silang (A x B): [ 24  79 -51]\n"
          ]
        }
      ]
    }
  ]
}